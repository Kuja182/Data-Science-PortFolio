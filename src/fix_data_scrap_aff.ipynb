{
 "cells": [
  {
   "cell_type": "code",
   "execution_count": 146,
   "metadata": {},
   "outputs": [],
   "source": [
    "import pandas as pd\n",
    "import numpy as np"
   ]
  },
  {
   "attachments": {},
   "cell_type": "markdown",
   "metadata": {},
   "source": [
    "Al igual que con las demás tiendas, empezamos ordenando lentes de contacto y liquidos, más tarde con las\n"
   ]
  },
  {
   "cell_type": "code",
   "execution_count": 147,
   "metadata": {},
   "outputs": [],
   "source": [
    "data_lc_1= pd.read_csv(\"./Data/csv_scrap/afflelou/lc y liq/lc_aff_1.csv\", index_col=0)\n",
    "data_lc_2 = pd.read_csv(\"./Data/csv_scrap/afflelou/lc y liq/lc_aff_2.csv\", index_col=0)\n",
    "data_lc_3 = pd.read_csv(\"./Data/csv_scrap/afflelou/lc y liq/lc_aff_3.csv\",index_col=0)\n",
    "data_liq = pd.read_csv(\"./data/csv_scrap/afflelou/lc y liq/liqu_aff.csv\", index_col=0)\n",
    "data_gafas_1 = pd.read_csv(\"./Data/csv_scrap/afflelou/gafas/grad_1_aff.csv\", index_col=0)\n",
    "data_gafas_2 = pd.read_csv(\"./Data/csv_scrap/afflelou/gafas/grad_2_aff.csv\", index_col=0)\n",
    "data_gafas_3 = pd.read_csv(\"./Data/csv_scrap/afflelou/gafas/grad_3_aff.csv\", index_col=0)\n",
    "data_gafas_4 = pd.read_csv(\"./Data/csv_scrap/afflelou/gafas/grad_4_aff.csv\", index_col=0)\n",
    "data_gafas_5 = pd.read_csv(\"./Data/csv_scrap/afflelou/gafas/grad_5_aff.csv\", index_col=0)\n",
    "data_gafas_6 = pd.read_csv(\"./Data/csv_scrap/afflelou/gafas/grad_6_aff.csv\", index_col=0)"
   ]
  },
  {
   "cell_type": "code",
   "execution_count": 148,
   "metadata": {},
   "outputs": [],
   "source": [
    "data_tot_lc_aff = pd.concat([data_lc_1,data_lc_2,data_lc_3],axis=0)\n",
    "data_tot_lc_aff.reset_index(inplace=True)\n",
    "data_tot_lc_aff.drop(\"index\",axis=1,inplace=True)"
   ]
  },
  {
   "cell_type": "code",
   "execution_count": 149,
   "metadata": {},
   "outputs": [
    {
     "data": {
      "text/html": [
       "<div>\n",
       "<style scoped>\n",
       "    .dataframe tbody tr th:only-of-type {\n",
       "        vertical-align: middle;\n",
       "    }\n",
       "\n",
       "    .dataframe tbody tr th {\n",
       "        vertical-align: top;\n",
       "    }\n",
       "\n",
       "    .dataframe thead th {\n",
       "        text-align: right;\n",
       "    }\n",
       "</style>\n",
       "<table border=\"1\" class=\"dataframe\">\n",
       "  <thead>\n",
       "    <tr style=\"text-align: right;\">\n",
       "      <th></th>\n",
       "      <th>nombre_completo</th>\n",
       "      <th>categoria</th>\n",
       "      <th>producto</th>\n",
       "      <th>reemplazo</th>\n",
       "      <th>precio</th>\n",
       "    </tr>\n",
       "  </thead>\n",
       "  <tbody>\n",
       "    <tr>\n",
       "      <th>0</th>\n",
       "      <td>ACUVUE® OASYS MAX 1-Day - 30L</td>\n",
       "      <td>Diarias</td>\n",
       "      <td>Lentillas</td>\n",
       "      <td>1 mes (para 1 ojo)</td>\n",
       "      <td>span span span span40€span span spanprecio we...</td>\n",
       "    </tr>\n",
       "    <tr>\n",
       "      <th>1</th>\n",
       "      <td>AIR OPTIX AQUA ESFÉRICA - 3L</td>\n",
       "      <td>Mensuales</td>\n",
       "      <td>Lentillas</td>\n",
       "      <td>3 meses (para 1 ojo)</td>\n",
       "      <td>span span span span31€span span spanprecio we...</td>\n",
       "    </tr>\n",
       "    <tr>\n",
       "      <th>2</th>\n",
       "      <td>AIR OPTIX NIGHT &amp; DAY - 6L</td>\n",
       "      <td>Mensuales</td>\n",
       "      <td>Lentillas</td>\n",
       "      <td>6 meses (para 1 ojo)</td>\n",
       "      <td>span span span span77€span span spanprecio we...</td>\n",
       "    </tr>\n",
       "    <tr>\n",
       "      <th>3</th>\n",
       "      <td>AIR OPTIX NIGHT &amp; DAY - 6L</td>\n",
       "      <td>Mensuales</td>\n",
       "      <td>Lentillas</td>\n",
       "      <td>6 meses (para 1 ojo)</td>\n",
       "      <td>span span span span77€span span spanprecio we...</td>\n",
       "    </tr>\n",
       "    <tr>\n",
       "      <th>4</th>\n",
       "      <td>AIR OPTIX ESFÉRICA AQUA - 6L</td>\n",
       "      <td>Mensuales</td>\n",
       "      <td>Lentillas</td>\n",
       "      <td>6 meses (para 1 ojo)</td>\n",
       "      <td>span span span span48,5€span span spanprecio ...</td>\n",
       "    </tr>\n",
       "  </tbody>\n",
       "</table>\n",
       "</div>"
      ],
      "text/plain": [
       "                 nombre_completo  categoria   producto             reemplazo  \\\n",
       "0  ACUVUE® OASYS MAX 1-Day - 30L    Diarias  Lentillas    1 mes (para 1 ojo)   \n",
       "1   AIR OPTIX AQUA ESFÉRICA - 3L  Mensuales  Lentillas  3 meses (para 1 ojo)   \n",
       "2     AIR OPTIX NIGHT & DAY - 6L  Mensuales  Lentillas  6 meses (para 1 ojo)   \n",
       "3     AIR OPTIX NIGHT & DAY - 6L  Mensuales  Lentillas  6 meses (para 1 ojo)   \n",
       "4   AIR OPTIX ESFÉRICA AQUA - 6L  Mensuales  Lentillas  6 meses (para 1 ojo)   \n",
       "\n",
       "                                              precio  \n",
       "0   span span span span40€span span spanprecio we...  \n",
       "1   span span span span31€span span spanprecio we...  \n",
       "2   span span span span77€span span spanprecio we...  \n",
       "3   span span span span77€span span spanprecio we...  \n",
       "4   span span span span48,5€span span spanprecio ...  "
      ]
     },
     "execution_count": 149,
     "metadata": {},
     "output_type": "execute_result"
    }
   ],
   "source": [
    "data_tot_lc_aff.head()"
   ]
  },
  {
   "cell_type": "code",
   "execution_count": 150,
   "metadata": {},
   "outputs": [],
   "source": [
    "data_tot_lc_aff[\"Empresa\"] = \"Alain Afflelou\"\n",
    "data_tot_lc_aff[\"Categoria\"] = \"Lentes de contacto\"\n",
    "\n",
    "data_tot_lc_aff = data_tot_lc_aff.rename(columns={\"nombre_completo\":\"Nombre completo\",\n",
    "                                  \"producto\":\"Producto\",\n",
    "                                  \"precio\":\"Precio\",\n",
    "                                  \"categoria\":\"Reemplazo\"})\n",
    "\n",
    "data_tot_lc_aff = data_tot_lc_aff[[\"Empresa\",\"Nombre completo\",\"Categoria\",\"Producto\",\"Reemplazo\",\"Precio\"]]"
   ]
  },
  {
   "cell_type": "code",
   "execution_count": 151,
   "metadata": {},
   "outputs": [],
   "source": [
    "data_tot_lc_aff[\"Reemplazo\"]= data_tot_lc_aff[\"Reemplazo\"].replace(\"Mensuales\", \"Mensual\")\n",
    "data_tot_lc_aff[\"Reemplazo\"]= data_tot_lc_aff[\"Reemplazo\"].replace(\"Quincenales\", \"Quincenal\")"
   ]
  },
  {
   "cell_type": "code",
   "execution_count": 152,
   "metadata": {},
   "outputs": [
    {
     "data": {
      "text/html": [
       "<div>\n",
       "<style scoped>\n",
       "    .dataframe tbody tr th:only-of-type {\n",
       "        vertical-align: middle;\n",
       "    }\n",
       "\n",
       "    .dataframe tbody tr th {\n",
       "        vertical-align: top;\n",
       "    }\n",
       "\n",
       "    .dataframe thead th {\n",
       "        text-align: right;\n",
       "    }\n",
       "</style>\n",
       "<table border=\"1\" class=\"dataframe\">\n",
       "  <thead>\n",
       "    <tr style=\"text-align: right;\">\n",
       "      <th></th>\n",
       "      <th>Empresa</th>\n",
       "      <th>Nombre completo</th>\n",
       "      <th>Categoria</th>\n",
       "      <th>Producto</th>\n",
       "      <th>Reemplazo</th>\n",
       "      <th>Precio</th>\n",
       "    </tr>\n",
       "  </thead>\n",
       "  <tbody>\n",
       "    <tr>\n",
       "      <th>0</th>\n",
       "      <td>Alain Afflelou</td>\n",
       "      <td>ACUVUE® OASYS MAX 1-Day - 30L</td>\n",
       "      <td>Lentes de contacto</td>\n",
       "      <td>Lentillas</td>\n",
       "      <td>Diarias</td>\n",
       "      <td>span span span span40€span span spanprecio we...</td>\n",
       "    </tr>\n",
       "    <tr>\n",
       "      <th>1</th>\n",
       "      <td>Alain Afflelou</td>\n",
       "      <td>AIR OPTIX AQUA ESFÉRICA - 3L</td>\n",
       "      <td>Lentes de contacto</td>\n",
       "      <td>Lentillas</td>\n",
       "      <td>Mensual</td>\n",
       "      <td>span span span span31€span span spanprecio we...</td>\n",
       "    </tr>\n",
       "    <tr>\n",
       "      <th>2</th>\n",
       "      <td>Alain Afflelou</td>\n",
       "      <td>AIR OPTIX NIGHT &amp; DAY - 6L</td>\n",
       "      <td>Lentes de contacto</td>\n",
       "      <td>Lentillas</td>\n",
       "      <td>Mensual</td>\n",
       "      <td>span span span span77€span span spanprecio we...</td>\n",
       "    </tr>\n",
       "    <tr>\n",
       "      <th>3</th>\n",
       "      <td>Alain Afflelou</td>\n",
       "      <td>AIR OPTIX NIGHT &amp; DAY - 6L</td>\n",
       "      <td>Lentes de contacto</td>\n",
       "      <td>Lentillas</td>\n",
       "      <td>Mensual</td>\n",
       "      <td>span span span span77€span span spanprecio we...</td>\n",
       "    </tr>\n",
       "    <tr>\n",
       "      <th>4</th>\n",
       "      <td>Alain Afflelou</td>\n",
       "      <td>AIR OPTIX ESFÉRICA AQUA - 6L</td>\n",
       "      <td>Lentes de contacto</td>\n",
       "      <td>Lentillas</td>\n",
       "      <td>Mensual</td>\n",
       "      <td>span span span span48,5€span span spanprecio ...</td>\n",
       "    </tr>\n",
       "  </tbody>\n",
       "</table>\n",
       "</div>"
      ],
      "text/plain": [
       "          Empresa                Nombre completo           Categoria  \\\n",
       "0  Alain Afflelou  ACUVUE® OASYS MAX 1-Day - 30L  Lentes de contacto   \n",
       "1  Alain Afflelou   AIR OPTIX AQUA ESFÉRICA - 3L  Lentes de contacto   \n",
       "2  Alain Afflelou     AIR OPTIX NIGHT & DAY - 6L  Lentes de contacto   \n",
       "3  Alain Afflelou     AIR OPTIX NIGHT & DAY - 6L  Lentes de contacto   \n",
       "4  Alain Afflelou   AIR OPTIX ESFÉRICA AQUA - 6L  Lentes de contacto   \n",
       "\n",
       "    Producto Reemplazo                                             Precio  \n",
       "0  Lentillas   Diarias   span span span span40€span span spanprecio we...  \n",
       "1  Lentillas   Mensual   span span span span31€span span spanprecio we...  \n",
       "2  Lentillas   Mensual   span span span span77€span span spanprecio we...  \n",
       "3  Lentillas   Mensual   span span span span77€span span spanprecio we...  \n",
       "4  Lentillas   Mensual   span span span span48,5€span span spanprecio ...  "
      ]
     },
     "execution_count": 152,
     "metadata": {},
     "output_type": "execute_result"
    }
   ],
   "source": [
    "data_tot_lc_aff.head()"
   ]
  },
  {
   "cell_type": "code",
   "execution_count": 153,
   "metadata": {},
   "outputs": [],
   "source": [
    "for index, row in data_tot_lc_aff.iterrows():\n",
    "    if \"ACUVUE\" in row[\"Nombre completo\"] or \"acuvue\" in row[\"Nombre completo\"] or \"Acuvue\" in row[\"Nombre completo\"]:\n",
    "        data_tot_lc_aff.loc[index][\"Producto\"] = \"Acuvue\"\n",
    "\n"
   ]
  },
  {
   "cell_type": "code",
   "execution_count": 154,
   "metadata": {},
   "outputs": [],
   "source": [
    "for index, row in data_tot_lc_aff.iterrows():\n",
    "    if \"AIR OPTIX\" in row[\"Nombre completo\"] or \"Air Optix\" in row[\"Nombre completo\"] or \"AIROPTIX\" in row[\"Nombre completo\"]:\n",
    "        data_tot_lc_aff.loc[index][\"Producto\"] = \"Air Optix\""
   ]
  },
  {
   "cell_type": "code",
   "execution_count": 156,
   "metadata": {},
   "outputs": [],
   "source": [
    "for index, row in data_tot_lc_aff.iterrows():\n",
    "    if \"Dailies\" in row[\"Nombre completo\"]:\n",
    "        data_tot_lc_aff.loc[index][\"Producto\"] = \"Dailies\""
   ]
  },
  {
   "cell_type": "code",
   "execution_count": 157,
   "metadata": {},
   "outputs": [],
   "source": [
    "for index, row in data_tot_lc_aff.iterrows():\n",
    "    if \"EPHEMERE\" in row[\"Nombre completo\"] or \"CLEARCOLOR\" in row[\"Nombre completo\"]:\n",
    "        data_tot_lc_aff.loc[index][\"Producto\"] = \"Marca Propia\"\n"
   ]
  },
  {
   "cell_type": "code",
   "execution_count": 158,
   "metadata": {},
   "outputs": [],
   "source": [
    "for index, row in data_tot_lc_aff.iterrows():\n",
    "    if \"TOTAL 30\" in row[\"Nombre completo\"]:\n",
    "        data_tot_lc_aff.loc[index][\"Producto\"] = \"total 30\"\n"
   ]
  },
  {
   "cell_type": "code",
   "execution_count": 159,
   "metadata": {},
   "outputs": [],
   "source": [
    "for indice, valor in data_tot_lc_aff[\"Precio\"].iteritems(): # Con este codigo limpiamos la fila de precio de cualquier tipo de carcarter, convirtiendo la cadena en float.\n",
    "    cadena = valor\n",
    "    for caracter in cadena:\n",
    "        try:\n",
    "            valor_float = float(cadena)\n",
    "            data_tot_lc_aff.at[indice, \"Precio\"] = valor_float\n",
    "            break\n",
    "        except ValueError:\n",
    "            if not caracter.isdigit() and caracter != '.' and caracter != '-':\n",
    "                cadena = cadena.replace(caracter, '')\n",
    "            cadena = cadena.replace(',', '.')\n",
    "data_tot_lc_aff[\"Precio\"] = data_tot_lc_aff[\"Precio\"].astype(float)"
   ]
  },
  {
   "cell_type": "code",
   "execution_count": 160,
   "metadata": {},
   "outputs": [
    {
     "data": {
      "text/html": [
       "<div>\n",
       "<style scoped>\n",
       "    .dataframe tbody tr th:only-of-type {\n",
       "        vertical-align: middle;\n",
       "    }\n",
       "\n",
       "    .dataframe tbody tr th {\n",
       "        vertical-align: top;\n",
       "    }\n",
       "\n",
       "    .dataframe thead th {\n",
       "        text-align: right;\n",
       "    }\n",
       "</style>\n",
       "<table border=\"1\" class=\"dataframe\">\n",
       "  <thead>\n",
       "    <tr style=\"text-align: right;\">\n",
       "      <th></th>\n",
       "      <th>Empresa</th>\n",
       "      <th>Nombre completo</th>\n",
       "      <th>Categoria</th>\n",
       "      <th>Producto</th>\n",
       "      <th>Reemplazo</th>\n",
       "      <th>Precio</th>\n",
       "    </tr>\n",
       "  </thead>\n",
       "  <tbody>\n",
       "    <tr>\n",
       "      <th>0</th>\n",
       "      <td>Alain Afflelou</td>\n",
       "      <td>ACUVUE® OASYS MAX 1-Day - 30L</td>\n",
       "      <td>Lentes de contacto</td>\n",
       "      <td>Acuvue</td>\n",
       "      <td>Diarias</td>\n",
       "      <td>40.0</td>\n",
       "    </tr>\n",
       "    <tr>\n",
       "      <th>1</th>\n",
       "      <td>Alain Afflelou</td>\n",
       "      <td>AIR OPTIX AQUA ESFÉRICA - 3L</td>\n",
       "      <td>Lentes de contacto</td>\n",
       "      <td>Air Optix</td>\n",
       "      <td>Mensual</td>\n",
       "      <td>31.0</td>\n",
       "    </tr>\n",
       "    <tr>\n",
       "      <th>2</th>\n",
       "      <td>Alain Afflelou</td>\n",
       "      <td>AIR OPTIX NIGHT &amp; DAY - 6L</td>\n",
       "      <td>Lentes de contacto</td>\n",
       "      <td>Air Optix</td>\n",
       "      <td>Mensual</td>\n",
       "      <td>77.0</td>\n",
       "    </tr>\n",
       "    <tr>\n",
       "      <th>3</th>\n",
       "      <td>Alain Afflelou</td>\n",
       "      <td>AIR OPTIX NIGHT &amp; DAY - 6L</td>\n",
       "      <td>Lentes de contacto</td>\n",
       "      <td>Air Optix</td>\n",
       "      <td>Mensual</td>\n",
       "      <td>77.0</td>\n",
       "    </tr>\n",
       "    <tr>\n",
       "      <th>4</th>\n",
       "      <td>Alain Afflelou</td>\n",
       "      <td>AIR OPTIX ESFÉRICA AQUA - 6L</td>\n",
       "      <td>Lentes de contacto</td>\n",
       "      <td>Air Optix</td>\n",
       "      <td>Mensual</td>\n",
       "      <td>48.5</td>\n",
       "    </tr>\n",
       "  </tbody>\n",
       "</table>\n",
       "</div>"
      ],
      "text/plain": [
       "          Empresa                Nombre completo           Categoria  \\\n",
       "0  Alain Afflelou  ACUVUE® OASYS MAX 1-Day - 30L  Lentes de contacto   \n",
       "1  Alain Afflelou   AIR OPTIX AQUA ESFÉRICA - 3L  Lentes de contacto   \n",
       "2  Alain Afflelou     AIR OPTIX NIGHT & DAY - 6L  Lentes de contacto   \n",
       "3  Alain Afflelou     AIR OPTIX NIGHT & DAY - 6L  Lentes de contacto   \n",
       "4  Alain Afflelou   AIR OPTIX ESFÉRICA AQUA - 6L  Lentes de contacto   \n",
       "\n",
       "    Producto Reemplazo  Precio  \n",
       "0     Acuvue   Diarias    40.0  \n",
       "1  Air Optix   Mensual    31.0  \n",
       "2  Air Optix   Mensual    77.0  \n",
       "3  Air Optix   Mensual    77.0  \n",
       "4  Air Optix   Mensual    48.5  "
      ]
     },
     "execution_count": 160,
     "metadata": {},
     "output_type": "execute_result"
    }
   ],
   "source": [
    "data_tot_lc_aff.head()"
   ]
  },
  {
   "cell_type": "code",
   "execution_count": 161,
   "metadata": {},
   "outputs": [],
   "source": [
    "data_tot_lc_aff.to_csv(\"./Data/Afflelou/lc_aff.csv\")"
   ]
  },
  {
   "attachments": {},
   "cell_type": "markdown",
   "metadata": {},
   "source": [
    "Ahora con los liquidos"
   ]
  },
  {
   "cell_type": "code",
   "execution_count": 162,
   "metadata": {},
   "outputs": [],
   "source": [
    "data_liq.drop(\"reemplazo\",axis=1,inplace=True)\n",
    "data_liq[\"Empresa\"] = \"Alain Afflelou\"\n",
    "data_liq = data_liq.rename(columns={\"nombre_completo\":\"Nombre completo\",\n",
    "                                    \"categoria\":\"Categoria\",\n",
    "                                    \"producto\":\"Producto\",\n",
    "                                    \"precio\":\"Precio\"})"
   ]
  },
  {
   "cell_type": "code",
   "execution_count": 163,
   "metadata": {},
   "outputs": [],
   "source": [
    "data_liq[\"Categoria\"] = \"Líquidos\""
   ]
  },
  {
   "cell_type": "code",
   "execution_count": 164,
   "metadata": {},
   "outputs": [],
   "source": [
    "for index, row in data_liq.iterrows():\n",
    "    if \"Opti-Free\" in row[\"Nombre completo\"]:\n",
    "        data_liq.loc[index][\"Producto\"] = \"Opti-Free\""
   ]
  },
  {
   "cell_type": "code",
   "execution_count": 166,
   "metadata": {},
   "outputs": [],
   "source": [
    "for index, row in data_liq.iterrows():\n",
    "    if \"ÉPHÉMÈRE\" in row[\"Nombre completo\"]:\n",
    "        data_liq.loc[index][\"Producto\"] = \"Marca Propia\""
   ]
  },
  {
   "cell_type": "code",
   "execution_count": 168,
   "metadata": {},
   "outputs": [],
   "source": [
    "for indice, valor in data_liq[\"Precio\"].iteritems(): # Con este codigo limpiamos la fila de precio de cualquier tipo de carcarter, convirtiendo la cadena en float.\n",
    "    cadena = valor\n",
    "    for caracter in cadena:\n",
    "        try:\n",
    "            valor_float = float(cadena)\n",
    "            data_liq.at[indice, \"Precio\"] = valor_float\n",
    "            break\n",
    "        except ValueError:\n",
    "            if not caracter.isdigit() and caracter != '.' and caracter != '-':\n",
    "                cadena = cadena.replace(caracter, '')\n",
    "            cadena = cadena.replace(',', '.')\n",
    "data_liq[\"Precio\"] = data_liq[\"Precio\"].astype(float)"
   ]
  },
  {
   "cell_type": "code",
   "execution_count": 170,
   "metadata": {},
   "outputs": [],
   "source": [
    "data_liq = data_liq[[\"Empresa\",\"Nombre completo\",\"Categoria\",\"Producto\",\"Precio\"]]"
   ]
  },
  {
   "cell_type": "code",
   "execution_count": 171,
   "metadata": {},
   "outputs": [
    {
     "data": {
      "text/html": [
       "<div>\n",
       "<style scoped>\n",
       "    .dataframe tbody tr th:only-of-type {\n",
       "        vertical-align: middle;\n",
       "    }\n",
       "\n",
       "    .dataframe tbody tr th {\n",
       "        vertical-align: top;\n",
       "    }\n",
       "\n",
       "    .dataframe thead th {\n",
       "        text-align: right;\n",
       "    }\n",
       "</style>\n",
       "<table border=\"1\" class=\"dataframe\">\n",
       "  <thead>\n",
       "    <tr style=\"text-align: right;\">\n",
       "      <th></th>\n",
       "      <th>Empresa</th>\n",
       "      <th>Nombre completo</th>\n",
       "      <th>Categoria</th>\n",
       "      <th>Producto</th>\n",
       "      <th>Precio</th>\n",
       "    </tr>\n",
       "  </thead>\n",
       "  <tbody>\n",
       "    <tr>\n",
       "      <th>0</th>\n",
       "      <td>Alain Afflelou</td>\n",
       "      <td>Opti-Free Puremoist Bi-Pack 2x300ml</td>\n",
       "      <td>Líquidos</td>\n",
       "      <td>Opti-Free</td>\n",
       "      <td>31.30</td>\n",
       "    </tr>\n",
       "    <tr>\n",
       "      <th>1</th>\n",
       "      <td>Alain Afflelou</td>\n",
       "      <td>Opti-Free Express 355ml</td>\n",
       "      <td>Líquidos</td>\n",
       "      <td>Opti-Free</td>\n",
       "      <td>13.45</td>\n",
       "    </tr>\n",
       "    <tr>\n",
       "      <th>2</th>\n",
       "      <td>Alain Afflelou</td>\n",
       "      <td>L’ÉPHÉMÈRE GOTAS HUMECTANTES (multidosis)</td>\n",
       "      <td>Líquidos</td>\n",
       "      <td>Marca Propia</td>\n",
       "      <td>5.50</td>\n",
       "    </tr>\n",
       "    <tr>\n",
       "      <th>3</th>\n",
       "      <td>Alain Afflelou</td>\n",
       "      <td>L’ÉPHÉMÈRE GOTAS HUMECTANTES (monodosis)</td>\n",
       "      <td>Líquidos</td>\n",
       "      <td>Marca Propia</td>\n",
       "      <td>7.50</td>\n",
       "    </tr>\n",
       "    <tr>\n",
       "      <th>4</th>\n",
       "      <td>Alain Afflelou</td>\n",
       "      <td>Opti-Free Puremoist 300ml</td>\n",
       "      <td>Líquidos</td>\n",
       "      <td>Opti-Free</td>\n",
       "      <td>15.50</td>\n",
       "    </tr>\n",
       "  </tbody>\n",
       "</table>\n",
       "</div>"
      ],
      "text/plain": [
       "          Empresa                            Nombre completo Categoria  \\\n",
       "0  Alain Afflelou        Opti-Free Puremoist Bi-Pack 2x300ml  Líquidos   \n",
       "1  Alain Afflelou                    Opti-Free Express 355ml  Líquidos   \n",
       "2  Alain Afflelou  L’ÉPHÉMÈRE GOTAS HUMECTANTES (multidosis)  Líquidos   \n",
       "3  Alain Afflelou   L’ÉPHÉMÈRE GOTAS HUMECTANTES (monodosis)  Líquidos   \n",
       "4  Alain Afflelou                  Opti-Free Puremoist 300ml  Líquidos   \n",
       "\n",
       "       Producto  Precio  \n",
       "0     Opti-Free   31.30  \n",
       "1     Opti-Free   13.45  \n",
       "2  Marca Propia    5.50  \n",
       "3  Marca Propia    7.50  \n",
       "4     Opti-Free   15.50  "
      ]
     },
     "execution_count": 171,
     "metadata": {},
     "output_type": "execute_result"
    }
   ],
   "source": [
    "data_liq"
   ]
  },
  {
   "cell_type": "code",
   "execution_count": 184,
   "metadata": {},
   "outputs": [],
   "source": [
    "data_liq.to_csv(\"./Data/Afflelou/liq_aff.csv\")"
   ]
  },
  {
   "attachments": {},
   "cell_type": "markdown",
   "metadata": {},
   "source": [
    "Ahora empezaré con las gafas."
   ]
  },
  {
   "cell_type": "code",
   "execution_count": 172,
   "metadata": {},
   "outputs": [],
   "source": [
    "data_tot_gaf_aff = pd.concat([data_gafas_1,data_gafas_2,data_gafas_3,data_gafas_4,data_gafas_5,data_gafas_6],axis=0)\n",
    "data_tot_gaf_aff.reset_index(inplace=True)\n",
    "data_tot_gaf_aff.drop(\"index\",axis=1,inplace=True)"
   ]
  },
  {
   "cell_type": "code",
   "execution_count": 177,
   "metadata": {},
   "outputs": [],
   "source": [
    "data_tot_gaf_aff[\"Empresa\"] = \"Alain Afflelou\"\n",
    "data_tot_gaf_aff[\"Producto\"] = \"Marca Propia\"\n",
    "data_tot_gaf_aff = data_tot_gaf_aff.rename(columns={\"nombre_completo\":\"Nombre completo\",\n",
    "                                                    \"categoria\":\"Categoria\",\n",
    "                                                    \"producto\":\"Producto\",\n",
    "                                                    \"precio\":\"Precio\"})\n",
    "data_tot_gaf_aff[\"Categoria\"] = \"Ofertas montura + cristales\"\n",
    "data_tot_gaf_aff = data_tot_gaf_aff[[\"Empresa\",\"Nombre completo\",\"Categoria\",\"Producto\",\"Precio\"]]"
   ]
  },
  {
   "cell_type": "code",
   "execution_count": 180,
   "metadata": {},
   "outputs": [],
   "source": [
    "for indice, valor in data_tot_gaf_aff[\"Precio\"].iteritems(): # Con este codigo limpiamos la fila de precio de cualquier tipo de carcarter, convirtiendo la cadena en float.\n",
    "    cadena = valor\n",
    "    for caracter in cadena:\n",
    "        try:\n",
    "            valor_float = float(cadena)\n",
    "            data_tot_gaf_aff.at[indice, \"Precio\"] = valor_float\n",
    "            break\n",
    "        except ValueError:\n",
    "            if not caracter.isdigit() and caracter != '.' and caracter != '-':\n",
    "                cadena = cadena.replace(caracter, '')\n",
    "            cadena = cadena.replace(',', '.')\n",
    "data_tot_gaf_aff[\"Precio\"] = data_tot_gaf_aff[\"Precio\"].astype(float)"
   ]
  },
  {
   "cell_type": "code",
   "execution_count": 182,
   "metadata": {},
   "outputs": [
    {
     "data": {
      "text/html": [
       "<div>\n",
       "<style scoped>\n",
       "    .dataframe tbody tr th:only-of-type {\n",
       "        vertical-align: middle;\n",
       "    }\n",
       "\n",
       "    .dataframe tbody tr th {\n",
       "        vertical-align: top;\n",
       "    }\n",
       "\n",
       "    .dataframe thead th {\n",
       "        text-align: right;\n",
       "    }\n",
       "</style>\n",
       "<table border=\"1\" class=\"dataframe\">\n",
       "  <thead>\n",
       "    <tr style=\"text-align: right;\">\n",
       "      <th></th>\n",
       "      <th>Empresa</th>\n",
       "      <th>Nombre completo</th>\n",
       "      <th>Categoria</th>\n",
       "      <th>Producto</th>\n",
       "      <th>Precio</th>\n",
       "    </tr>\n",
       "  </thead>\n",
       "  <tbody>\n",
       "    <tr>\n",
       "      <th>0</th>\n",
       "      <td>Alain Afflelou</td>\n",
       "      <td>Afflelou AFFLELOU FORTY SOLAR COLOR CAREY</td>\n",
       "      <td>Ofertas montura + cristales</td>\n",
       "      <td>Marca Propia</td>\n",
       "      <td>39.0</td>\n",
       "    </tr>\n",
       "    <tr>\n",
       "      <th>1</th>\n",
       "      <td>Alain Afflelou</td>\n",
       "      <td>Afflelou FORTY FILTRO LUZ AZUL - NEGRO</td>\n",
       "      <td>Ofertas montura + cristales</td>\n",
       "      <td>Marca Propia</td>\n",
       "      <td>39.0</td>\n",
       "    </tr>\n",
       "    <tr>\n",
       "      <th>2</th>\n",
       "      <td>Alain Afflelou</td>\n",
       "      <td>Afflelou BLUE BLOCK 1 MIXTE</td>\n",
       "      <td>Ofertas montura + cristales</td>\n",
       "      <td>Marca Propia</td>\n",
       "      <td>39.0</td>\n",
       "    </tr>\n",
       "    <tr>\n",
       "      <th>3</th>\n",
       "      <td>Alain Afflelou</td>\n",
       "      <td>Afflelou ROMY</td>\n",
       "      <td>Ofertas montura + cristales</td>\n",
       "      <td>Marca Propia</td>\n",
       "      <td>99.0</td>\n",
       "    </tr>\n",
       "    <tr>\n",
       "      <th>4</th>\n",
       "      <td>Alain Afflelou</td>\n",
       "      <td>Afflelou CARLA</td>\n",
       "      <td>Ofertas montura + cristales</td>\n",
       "      <td>Marca Propia</td>\n",
       "      <td>99.0</td>\n",
       "    </tr>\n",
       "  </tbody>\n",
       "</table>\n",
       "</div>"
      ],
      "text/plain": [
       "          Empresa                            Nombre completo  \\\n",
       "0  Alain Afflelou  Afflelou AFFLELOU FORTY SOLAR COLOR CAREY   \n",
       "1  Alain Afflelou     Afflelou FORTY FILTRO LUZ AZUL - NEGRO   \n",
       "2  Alain Afflelou                Afflelou BLUE BLOCK 1 MIXTE   \n",
       "3  Alain Afflelou                              Afflelou ROMY   \n",
       "4  Alain Afflelou                             Afflelou CARLA   \n",
       "\n",
       "                     Categoria      Producto  Precio  \n",
       "0  Ofertas montura + cristales  Marca Propia    39.0  \n",
       "1  Ofertas montura + cristales  Marca Propia    39.0  \n",
       "2  Ofertas montura + cristales  Marca Propia    39.0  \n",
       "3  Ofertas montura + cristales  Marca Propia    99.0  \n",
       "4  Ofertas montura + cristales  Marca Propia    99.0  "
      ]
     },
     "execution_count": 182,
     "metadata": {},
     "output_type": "execute_result"
    }
   ],
   "source": [
    "data_tot_gaf_aff.head()"
   ]
  },
  {
   "cell_type": "code",
   "execution_count": 183,
   "metadata": {},
   "outputs": [],
   "source": [
    "data_tot_gaf_aff.to_csv(\"./Data/Afflelou/gaf_aff.csv\")"
   ]
  }
 ],
 "metadata": {
  "kernelspec": {
   "display_name": "Python 3",
   "language": "python",
   "name": "python3"
  },
  "language_info": {
   "codemirror_mode": {
    "name": "ipython",
    "version": 3
   },
   "file_extension": ".py",
   "mimetype": "text/x-python",
   "name": "python",
   "nbconvert_exporter": "python",
   "pygments_lexer": "ipython3",
   "version": "3.7.4"
  },
  "orig_nbformat": 4
 },
 "nbformat": 4,
 "nbformat_minor": 2
}
