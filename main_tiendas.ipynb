{
 "cells": [
  {
   "cell_type": "code",
   "execution_count": 69,
   "metadata": {},
   "outputs": [],
   "source": [
    "import pandas as pd\n",
    "import numpy as np"
   ]
  },
  {
   "attachments": {},
   "cell_type": "markdown",
   "metadata": {},
   "source": [
    "Voy cargando csv para encadenarlos en solo uno."
   ]
  },
  {
   "cell_type": "code",
   "execution_count": 70,
   "metadata": {},
   "outputs": [],
   "source": [
    "aff_lc = pd.read_csv(\"./Data/Afflelou-dataok/lc_aff.csv\",index_col=0)\n",
    "aff_gaf = pd.read_csv(\"./Data/Afflelou-dataok/gaf_aff.csv\",index_col=0) \n",
    "aff_liq = pd.read_csv(\"./Data/Afflelou-dataok/liq_aff.csv\",index_col=0) \n",
    "gh_gaf = pd.read_csv(\"./Data/GH-dataok/gafas_gh.csv\",index_col=0) \n",
    "gh_lc = pd.read_csv(\"./Data/GH-dataok/lc_gh.csv\",index_col=0) \n",
    "gh_liq = pd.read_csv(\"./Data/GH-dataok/liquidos_gh.csv\",index_col=0) \n",
    "opti_gaf = pd.read_csv(\"./Data/Opticalia-dataok/col_gaf_opt.csv\",index_col=0) \n",
    "opti_lc = pd.read_csv(\"./Data/Opticalia-dataok/lc_opt.csv\",index_col=0) \n",
    "opti_liq = pd.read_csv(\"./Data/Opticalia-dataok/data_liq_opt.csv\",index_col=0) \n",
    "ou_gafas = pd.read_csv(\"./Data/OU-dataok/data_gafas.csv\",index_col=0) \n",
    "ou_lc = pd.read_csv(\"./Data/OU-dataok/data_tot_lc_ou.csv\",index_col=0) \n",
    "ou_liq = pd.read_csv(\"./Data/OU-dataok/data_tot_liqu_ou.csv\",index_col=0) \n"
   ]
  },
  {
   "cell_type": "code",
   "execution_count": 71,
   "metadata": {},
   "outputs": [],
   "source": [
    "todo_conc = pd.concat([aff_lc,aff_gaf,aff_liq,gh_gaf,gh_lc,gh_liq,opti_gaf,opti_lc,opti_liq,ou_gafas,ou_lc,ou_liq],axis=0)\n",
    "todo_conc.reset_index(inplace=True)\n",
    "todo_conc.drop(\"index\",axis=1,inplace=True)"
   ]
  },
  {
   "cell_type": "code",
   "execution_count": 72,
   "metadata": {},
   "outputs": [],
   "source": [
    "todo_conc.drop(\"level_0\",axis=1,inplace=True)"
   ]
  },
  {
   "cell_type": "code",
   "execution_count": 73,
   "metadata": {},
   "outputs": [
    {
     "name": "stdout",
     "output_type": "stream",
     "text": [
      "<class 'pandas.core.frame.DataFrame'>\n",
      "RangeIndex: 716 entries, 0 to 715\n",
      "Data columns (total 6 columns):\n",
      " #   Column           Non-Null Count  Dtype \n",
      "---  ------           --------------  ----- \n",
      " 0   Empresa          716 non-null    object\n",
      " 1   Nombre completo  716 non-null    object\n",
      " 2   Categoria        716 non-null    object\n",
      " 3   Producto         716 non-null    object\n",
      " 4   Reemplazo        164 non-null    object\n",
      " 5   Precio           716 non-null    object\n",
      "dtypes: object(6)\n",
      "memory usage: 33.7+ KB\n"
     ]
    }
   ],
   "source": [
    "todo_conc.info()"
   ]
  },
  {
   "cell_type": "code",
   "execution_count": 74,
   "metadata": {},
   "outputs": [],
   "source": [
    "todo_conc.to_csv(\"./Data/Data_main/todo_conc_opticas.csv\",)"
   ]
  }
 ],
 "metadata": {
  "kernelspec": {
   "display_name": "Python 3",
   "language": "python",
   "name": "python3"
  },
  "language_info": {
   "codemirror_mode": {
    "name": "ipython",
    "version": 3
   },
   "file_extension": ".py",
   "mimetype": "text/x-python",
   "name": "python",
   "nbconvert_exporter": "python",
   "pygments_lexer": "ipython3",
   "version": "3.7.4"
  },
  "orig_nbformat": 4
 },
 "nbformat": 4,
 "nbformat_minor": 2
}
