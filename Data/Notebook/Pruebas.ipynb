{
 "cells": [
  {
   "cell_type": "code",
   "execution_count": null,
   "metadata": {},
   "outputs": [],
   "source": [
    "fig, ax = plt.subplots(figsize=(5, 5))\n",
    "EEUU_probl_prv.plot(kind=\"bar\", ax=ax, width =3)\n",
    "ax.legend(bbox_to_anchor=(1, 0.7), loc='upper left');\n",
    "ax.set_xlabel(\"\")\n",
    "ax.set_xticklabels([])\n",
    "plt.title(\"Prevalencia de las enfermedades oculares en EEUU\");\n"
   ]
  }
 ],
 "metadata": {
  "language_info": {
   "name": "python"
  },
  "orig_nbformat": 4
 },
 "nbformat": 4,
 "nbformat_minor": 2
}
