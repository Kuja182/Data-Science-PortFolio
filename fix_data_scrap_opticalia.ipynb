{
 "cells": [
  {
   "cell_type": "code",
   "execution_count": 121,
   "metadata": {},
   "outputs": [],
   "source": [
    "import pandas as pd\n",
    "import numpy as np"
   ]
  },
  {
   "attachments": {},
   "cell_type": "markdown",
   "metadata": {},
   "source": [
    "Empezamos ordenandos los csv Lentes de contacto y liquidos. Después con el de las gafas"
   ]
  },
  {
   "cell_type": "code",
   "execution_count": 122,
   "metadata": {},
   "outputs": [],
   "source": [
    "data_lc_d= pd.read_csv(\"./data/csv_scrap/opticalia/lc/lts_dias.csv\", index_col=0)\n",
    "data_lc_m = pd.read_csv(\"./data/csv_scrap/opticalia/lc/lts_mensual.csv\", index_col=0)\n",
    "data_liq = pd.read_csv(\"./Data/csv_scrap/opticalia/lc/liquidos.csv\",index_col=0)\n",
    "data_gafas_1 = pd.read_csv(\"./data/csv_scrap/opticalia/gafas/grad_opt_1.csv\", index_col=0)\n",
    "data_gafas_2 = pd.read_csv(\"./data/csv_scrap/opticalia/gafas/grad_opt_2.csv\", index_col=0)\n",
    "data_gafas_3 = pd.read_csv(\"./data/csv_scrap/opticalia/gafas/grad_opt_3.csv\", index_col=0)\n",
    "data_gafas_4 = pd.read_csv(\"./data/csv_scrap/opticalia/gafas/grad_opt_4.csv\", index_col=0)\n",
    "data_gafas_5 = pd.read_csv(\"./data/csv_scrap/opticalia/gafas/grad_opt_5.csv\", index_col=0)\n",
    "data_gafas_6 = pd.read_csv(\"./data/csv_scrap/opticalia/gafas/grad_opt_6.csv\", index_col=0)\n"
   ]
  },
  {
   "cell_type": "code",
   "execution_count": 123,
   "metadata": {},
   "outputs": [],
   "source": [
    "data_lc_d[\"Empresa\"] = \"Opticalia\"\n",
    "data_lc_d[\"Reemplazo\"] = \"Diario\"\n",
    "data_lc_d = data_lc_d.rename(columns={\"nombre_completo\":\"Nombre completo\",\n",
    "                                      \"categoria\":\"Categoria\",\n",
    "                                      \"producto\":\"Producto\",\n",
    "                                      \"precio\":\"Precio\"})\n",
    "\n",
    "data_lc_d[\"Producto\"] = \"Marca Propia\"\n",
    "data_lc_d[\"Categoria\"] = \"Lentes de contacto\"\n",
    "data_lc_d = data_lc_d[[\"Empresa\",\"Nombre completo\",\"Categoria\",\"Producto\",\"Reemplazo\",\"Precio\"]]"
   ]
  },
  {
   "cell_type": "code",
   "execution_count": 124,
   "metadata": {},
   "outputs": [],
   "source": [
    "data_lc_d[\"Precio\"] = data_lc_d[\"Precio\"].apply(lambda x: x[:-1]).str.replace(\",\",\".\").astype(float)"
   ]
  },
  {
   "cell_type": "code",
   "execution_count": 125,
   "metadata": {},
   "outputs": [
    {
     "data": {
      "text/html": [
       "<div>\n",
       "<style scoped>\n",
       "    .dataframe tbody tr th:only-of-type {\n",
       "        vertical-align: middle;\n",
       "    }\n",
       "\n",
       "    .dataframe tbody tr th {\n",
       "        vertical-align: top;\n",
       "    }\n",
       "\n",
       "    .dataframe thead th {\n",
       "        text-align: right;\n",
       "    }\n",
       "</style>\n",
       "<table border=\"1\" class=\"dataframe\">\n",
       "  <thead>\n",
       "    <tr style=\"text-align: right;\">\n",
       "      <th></th>\n",
       "      <th>Empresa</th>\n",
       "      <th>Nombre completo</th>\n",
       "      <th>Categoria</th>\n",
       "      <th>Producto</th>\n",
       "      <th>Reemplazo</th>\n",
       "      <th>Precio</th>\n",
       "    </tr>\n",
       "  </thead>\n",
       "  <tbody>\n",
       "    <tr>\n",
       "      <th>0</th>\n",
       "      <td>Opticalia</td>\n",
       "      <td>VISTASOFT LENTES DIARIAS CONFORT ASFÉRICAS 90</td>\n",
       "      <td>Lentes de contacto</td>\n",
       "      <td>Marca Propia</td>\n",
       "      <td>Diario</td>\n",
       "      <td>49.95</td>\n",
       "    </tr>\n",
       "    <tr>\n",
       "      <th>1</th>\n",
       "      <td>Opticalia</td>\n",
       "      <td>VISTASOFT LENTES DIARIAS CONFORT ASFÉRICAS 30</td>\n",
       "      <td>Lentes de contacto</td>\n",
       "      <td>Marca Propia</td>\n",
       "      <td>Diario</td>\n",
       "      <td>20.95</td>\n",
       "    </tr>\n",
       "    <tr>\n",
       "      <th>2</th>\n",
       "      <td>Opticalia</td>\n",
       "      <td>VISTASOFT LENTES DIARIAS ASFÉRICAS 90</td>\n",
       "      <td>Lentes de contacto</td>\n",
       "      <td>Marca Propia</td>\n",
       "      <td>Diario</td>\n",
       "      <td>44.95</td>\n",
       "    </tr>\n",
       "    <tr>\n",
       "      <th>3</th>\n",
       "      <td>Opticalia</td>\n",
       "      <td>VISTASOFT LENTES DIARIAS ASFÉRICAS 30</td>\n",
       "      <td>Lentes de contacto</td>\n",
       "      <td>Marca Propia</td>\n",
       "      <td>Diario</td>\n",
       "      <td>18.95</td>\n",
       "    </tr>\n",
       "    <tr>\n",
       "      <th>4</th>\n",
       "      <td>Opticalia</td>\n",
       "      <td>1 DAY SILICONE MULTIFOCAL PREMIUM 30 (Adición ...</td>\n",
       "      <td>Lentes de contacto</td>\n",
       "      <td>Marca Propia</td>\n",
       "      <td>Diario</td>\n",
       "      <td>52.50</td>\n",
       "    </tr>\n",
       "  </tbody>\n",
       "</table>\n",
       "</div>"
      ],
      "text/plain": [
       "     Empresa                                    Nombre completo  \\\n",
       "0  Opticalia      VISTASOFT LENTES DIARIAS CONFORT ASFÉRICAS 90   \n",
       "1  Opticalia      VISTASOFT LENTES DIARIAS CONFORT ASFÉRICAS 30   \n",
       "2  Opticalia              VISTASOFT LENTES DIARIAS ASFÉRICAS 90   \n",
       "3  Opticalia              VISTASOFT LENTES DIARIAS ASFÉRICAS 30   \n",
       "4  Opticalia  1 DAY SILICONE MULTIFOCAL PREMIUM 30 (Adición ...   \n",
       "\n",
       "            Categoria      Producto Reemplazo  Precio  \n",
       "0  Lentes de contacto  Marca Propia    Diario   49.95  \n",
       "1  Lentes de contacto  Marca Propia    Diario   20.95  \n",
       "2  Lentes de contacto  Marca Propia    Diario   44.95  \n",
       "3  Lentes de contacto  Marca Propia    Diario   18.95  \n",
       "4  Lentes de contacto  Marca Propia    Diario   52.50  "
      ]
     },
     "execution_count": 125,
     "metadata": {},
     "output_type": "execute_result"
    }
   ],
   "source": [
    "data_lc_d.head()"
   ]
  },
  {
   "cell_type": "code",
   "execution_count": 126,
   "metadata": {},
   "outputs": [],
   "source": [
    "data_lc_m[\"Empresa\"] = \"Opticalia\"\n",
    "data_lc_m[\"Reemplazo\"] = \"Diario\"\n",
    "data_lc_m = data_lc_m.rename(columns={\"nombre_completo\":\"Nombre completo\",\n",
    "                                      \"categoria\":\"Categoria\",\n",
    "                                      \"producto\":\"Producto\",\n",
    "                                      \"precio\":\"Precio\"})\n",
    "\n",
    "data_lc_m[\"Producto\"] = \"Marca Propia\"\n",
    "data_lc_m = data_lc_m[[\"Empresa\",\"Nombre completo\",\"Categoria\",\"Producto\",\"Reemplazo\",\"Precio\"]]"
   ]
  },
  {
   "cell_type": "code",
   "execution_count": 127,
   "metadata": {},
   "outputs": [],
   "source": [
    "data_lc_m[\"Empresa\"] = \"Opticalia\"\n",
    "data_lc_m[\"Reemplazo\"] = \"Mensual\"\n",
    "data_lc_m = data_lc_m.rename(columns={\"nombre_completo\":\"Nombre completo\",\n",
    "                                      \"categoria\":\"Categoria\",\n",
    "                                      \"producto\":\"Producto\",\n",
    "                                      \"precio\":\"Precio\"})\n",
    "\n",
    "data_lc_m[\"Producto\"] = \"Marca Propia\"\n",
    "data_lc_m[\"Categoria\"] = \"Lentes de contacto\"\n",
    "data_lc_m = data_lc_m[[\"Empresa\",\"Nombre completo\",\"Categoria\",\"Producto\",\"Reemplazo\",\"Precio\"]]"
   ]
  },
  {
   "cell_type": "code",
   "execution_count": 128,
   "metadata": {},
   "outputs": [],
   "source": [
    "data_lc_m[\"Precio\"] = data_lc_m[\"Precio\"].apply(lambda x: x[:-1]).str.replace(\",\",\".\").astype(float)"
   ]
  },
  {
   "cell_type": "code",
   "execution_count": 129,
   "metadata": {},
   "outputs": [
    {
     "data": {
      "text/html": [
       "<div>\n",
       "<style scoped>\n",
       "    .dataframe tbody tr th:only-of-type {\n",
       "        vertical-align: middle;\n",
       "    }\n",
       "\n",
       "    .dataframe tbody tr th {\n",
       "        vertical-align: top;\n",
       "    }\n",
       "\n",
       "    .dataframe thead th {\n",
       "        text-align: right;\n",
       "    }\n",
       "</style>\n",
       "<table border=\"1\" class=\"dataframe\">\n",
       "  <thead>\n",
       "    <tr style=\"text-align: right;\">\n",
       "      <th></th>\n",
       "      <th>Empresa</th>\n",
       "      <th>Nombre completo</th>\n",
       "      <th>Categoria</th>\n",
       "      <th>Producto</th>\n",
       "      <th>Reemplazo</th>\n",
       "      <th>Precio</th>\n",
       "    </tr>\n",
       "  </thead>\n",
       "  <tbody>\n",
       "    <tr>\n",
       "      <th>0</th>\n",
       "      <td>Opticalia</td>\n",
       "      <td>LENTES BIO TORIC -2.25 cilindro (3 uds)</td>\n",
       "      <td>Lentes de contacto</td>\n",
       "      <td>Marca Propia</td>\n",
       "      <td>Mensual</td>\n",
       "      <td>38.0</td>\n",
       "    </tr>\n",
       "    <tr>\n",
       "      <th>1</th>\n",
       "      <td>Opticalia</td>\n",
       "      <td>LENTES INITIAL BIO MULTIFOCAL Low (6 uds)</td>\n",
       "      <td>Lentes de contacto</td>\n",
       "      <td>Marca Propia</td>\n",
       "      <td>Mensual</td>\n",
       "      <td>75.5</td>\n",
       "    </tr>\n",
       "    <tr>\n",
       "      <th>2</th>\n",
       "      <td>Opticalia</td>\n",
       "      <td>LENTES INITIAL BIO MULTIFOCAL High (6 uds)</td>\n",
       "      <td>Lentes de contacto</td>\n",
       "      <td>Marca Propia</td>\n",
       "      <td>Mensual</td>\n",
       "      <td>75.5</td>\n",
       "    </tr>\n",
       "    <tr>\n",
       "      <th>3</th>\n",
       "      <td>Opticalia</td>\n",
       "      <td>LENTES BIO MULTIFOCAL N (3 uds)</td>\n",
       "      <td>Lentes de contacto</td>\n",
       "      <td>Marca Propia</td>\n",
       "      <td>Mensual</td>\n",
       "      <td>43.0</td>\n",
       "    </tr>\n",
       "    <tr>\n",
       "      <th>4</th>\n",
       "      <td>Opticalia</td>\n",
       "      <td>LENTES BIO MULTIFOCAL D (3 uds)</td>\n",
       "      <td>Lentes de contacto</td>\n",
       "      <td>Marca Propia</td>\n",
       "      <td>Mensual</td>\n",
       "      <td>43.0</td>\n",
       "    </tr>\n",
       "  </tbody>\n",
       "</table>\n",
       "</div>"
      ],
      "text/plain": [
       "     Empresa                             Nombre completo           Categoria  \\\n",
       "0  Opticalia     LENTES BIO TORIC -2.25 cilindro (3 uds)  Lentes de contacto   \n",
       "1  Opticalia   LENTES INITIAL BIO MULTIFOCAL Low (6 uds)  Lentes de contacto   \n",
       "2  Opticalia  LENTES INITIAL BIO MULTIFOCAL High (6 uds)  Lentes de contacto   \n",
       "3  Opticalia             LENTES BIO MULTIFOCAL N (3 uds)  Lentes de contacto   \n",
       "4  Opticalia             LENTES BIO MULTIFOCAL D (3 uds)  Lentes de contacto   \n",
       "\n",
       "       Producto Reemplazo  Precio  \n",
       "0  Marca Propia   Mensual    38.0  \n",
       "1  Marca Propia   Mensual    75.5  \n",
       "2  Marca Propia   Mensual    75.5  \n",
       "3  Marca Propia   Mensual    43.0  \n",
       "4  Marca Propia   Mensual    43.0  "
      ]
     },
     "execution_count": 129,
     "metadata": {},
     "output_type": "execute_result"
    }
   ],
   "source": [
    "data_lc_m.head()"
   ]
  },
  {
   "cell_type": "code",
   "execution_count": 130,
   "metadata": {},
   "outputs": [],
   "source": [
    "data_tot_lc_opticalia = pd.concat([data_lc_d,data_lc_m],axis=0)\n",
    "data_tot_lc_opticalia.reset_index(inplace=True)\n",
    "data_tot_lc_opticalia.drop(\"index\",axis=1,inplace=True)\n"
   ]
  },
  {
   "cell_type": "code",
   "execution_count": 134,
   "metadata": {},
   "outputs": [
    {
     "data": {
      "text/html": [
       "<div>\n",
       "<style scoped>\n",
       "    .dataframe tbody tr th:only-of-type {\n",
       "        vertical-align: middle;\n",
       "    }\n",
       "\n",
       "    .dataframe tbody tr th {\n",
       "        vertical-align: top;\n",
       "    }\n",
       "\n",
       "    .dataframe thead th {\n",
       "        text-align: right;\n",
       "    }\n",
       "</style>\n",
       "<table border=\"1\" class=\"dataframe\">\n",
       "  <thead>\n",
       "    <tr style=\"text-align: right;\">\n",
       "      <th></th>\n",
       "      <th>Empresa</th>\n",
       "      <th>Nombre completo</th>\n",
       "      <th>Categoria</th>\n",
       "      <th>Producto</th>\n",
       "      <th>Reemplazo</th>\n",
       "      <th>Precio</th>\n",
       "    </tr>\n",
       "  </thead>\n",
       "  <tbody>\n",
       "    <tr>\n",
       "      <th>0</th>\n",
       "      <td>Opticalia</td>\n",
       "      <td>VISTASOFT LENTES DIARIAS CONFORT ASFÉRICAS 90</td>\n",
       "      <td>Lentes de contacto</td>\n",
       "      <td>Marca Propia</td>\n",
       "      <td>Diario</td>\n",
       "      <td>49.95</td>\n",
       "    </tr>\n",
       "    <tr>\n",
       "      <th>1</th>\n",
       "      <td>Opticalia</td>\n",
       "      <td>VISTASOFT LENTES DIARIAS CONFORT ASFÉRICAS 30</td>\n",
       "      <td>Lentes de contacto</td>\n",
       "      <td>Marca Propia</td>\n",
       "      <td>Diario</td>\n",
       "      <td>20.95</td>\n",
       "    </tr>\n",
       "    <tr>\n",
       "      <th>2</th>\n",
       "      <td>Opticalia</td>\n",
       "      <td>VISTASOFT LENTES DIARIAS ASFÉRICAS 90</td>\n",
       "      <td>Lentes de contacto</td>\n",
       "      <td>Marca Propia</td>\n",
       "      <td>Diario</td>\n",
       "      <td>44.95</td>\n",
       "    </tr>\n",
       "    <tr>\n",
       "      <th>3</th>\n",
       "      <td>Opticalia</td>\n",
       "      <td>VISTASOFT LENTES DIARIAS ASFÉRICAS 30</td>\n",
       "      <td>Lentes de contacto</td>\n",
       "      <td>Marca Propia</td>\n",
       "      <td>Diario</td>\n",
       "      <td>18.95</td>\n",
       "    </tr>\n",
       "    <tr>\n",
       "      <th>4</th>\n",
       "      <td>Opticalia</td>\n",
       "      <td>1 DAY SILICONE MULTIFOCAL PREMIUM 30 (Adición ...</td>\n",
       "      <td>Lentes de contacto</td>\n",
       "      <td>Marca Propia</td>\n",
       "      <td>Diario</td>\n",
       "      <td>52.50</td>\n",
       "    </tr>\n",
       "  </tbody>\n",
       "</table>\n",
       "</div>"
      ],
      "text/plain": [
       "     Empresa                                    Nombre completo  \\\n",
       "0  Opticalia      VISTASOFT LENTES DIARIAS CONFORT ASFÉRICAS 90   \n",
       "1  Opticalia      VISTASOFT LENTES DIARIAS CONFORT ASFÉRICAS 30   \n",
       "2  Opticalia              VISTASOFT LENTES DIARIAS ASFÉRICAS 90   \n",
       "3  Opticalia              VISTASOFT LENTES DIARIAS ASFÉRICAS 30   \n",
       "4  Opticalia  1 DAY SILICONE MULTIFOCAL PREMIUM 30 (Adición ...   \n",
       "\n",
       "            Categoria      Producto Reemplazo  Precio  \n",
       "0  Lentes de contacto  Marca Propia    Diario   49.95  \n",
       "1  Lentes de contacto  Marca Propia    Diario   20.95  \n",
       "2  Lentes de contacto  Marca Propia    Diario   44.95  \n",
       "3  Lentes de contacto  Marca Propia    Diario   18.95  \n",
       "4  Lentes de contacto  Marca Propia    Diario   52.50  "
      ]
     },
     "execution_count": 134,
     "metadata": {},
     "output_type": "execute_result"
    }
   ],
   "source": [
    "data_tot_lc_opticalia.head()"
   ]
  },
  {
   "cell_type": "code",
   "execution_count": 135,
   "metadata": {},
   "outputs": [],
   "source": [
    "data_tot_lc_opticalia.to_csv(\"./Data/Opticalia/lc_opt.csv\", index=False)"
   ]
  }
 ],
 "metadata": {
  "kernelspec": {
   "display_name": "Python 3",
   "language": "python",
   "name": "python3"
  },
  "language_info": {
   "codemirror_mode": {
    "name": "ipython",
    "version": 3
   },
   "file_extension": ".py",
   "mimetype": "text/x-python",
   "name": "python",
   "nbconvert_exporter": "python",
   "pygments_lexer": "ipython3",
   "version": "3.7.4"
  },
  "orig_nbformat": 4
 },
 "nbformat": 4,
 "nbformat_minor": 2
}
