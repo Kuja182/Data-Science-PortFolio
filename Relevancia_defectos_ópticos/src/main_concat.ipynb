{
 "cells": [
  {
   "cell_type": "code",
   "execution_count": 9,
   "metadata": {},
   "outputs": [],
   "source": [
    "import pandas as pd\n",
    "import numpy as np"
   ]
  },
  {
   "attachments": {},
   "cell_type": "markdown",
   "metadata": {},
   "source": [
    "Voy cargando csv para encadenarlos en solo uno."
   ]
  },
  {
   "cell_type": "code",
   "execution_count": 11,
   "metadata": {},
   "outputs": [],
   "source": [
    "aff_lc = pd.read_csv(\"./Data/Afflelou-dataok/lc_aff.csv\",index_col=0)\n",
    "aff_gaf = pd.read_csv(\"./Data/Afflelou-dataok/gaf_aff.csv\",index_col=0) \n",
    "aff_liq = pd.read_csv(\"./Data/Afflelou-dataok/liq_aff.csv\",index_col=0) \n",
    "gh_gaf = pd.read_csv(\"./Data/GH-dataok/gafas_gh.csv\",index_col=0) \n",
    "gh_lc = pd.read_csv(\"./Data/GH-dataok/lc_gh.csv\",index_col=0) \n",
    "gh_liq = pd.read_csv(\"./Data/GH-dataok/liquidos_gh.csv\",index_col=0) \n",
    "opti_gaf = pd.read_csv(\"./Data/Opticalia-dataok/col_gaf_opt.csv\",index_col=0) \n",
    "opti_lc = pd.read_csv(\"./Data/Opticalia-dataok/lc_opt.csv\",index_col=0) \n",
    "opti_liq = pd.read_csv(\"./Data/Opticalia-dataok/data_liq_opt.csv\",index_col=0) \n",
    "ou_gafas = pd.read_csv(\"./Data/OU-dataok/data_gafas.csv\",index_col=0) \n",
    "ou_lc = pd.read_csv(\"./Data/OU-dataok/data_tot_lc_ou.csv\",index_col=0) \n",
    "ou_liq = pd.read_csv(\"./Data/OU-dataok/data_tot_liqu_ou.csv\",index_col=0) \n"
   ]
  },
  {
   "cell_type": "code",
   "execution_count": 12,
   "metadata": {},
   "outputs": [],
   "source": [
    "todo_conc = pd.concat([aff_lc,aff_gaf,aff_liq,gh_gaf,gh_lc,gh_liq,opti_gaf,opti_lc,opti_liq,ou_gafas,ou_lc,ou_liq],axis=0)\n",
    "todo_conc.reset_index(inplace=True)\n",
    "todo_conc.drop(\"index\",axis=1,inplace=True)"
   ]
  },
  {
   "cell_type": "code",
   "execution_count": 13,
   "metadata": {},
   "outputs": [],
   "source": [
    "todo_conc.drop(\"level_0\",axis=1,inplace=True)"
   ]
  },
  {
   "cell_type": "code",
   "execution_count": 14,
   "metadata": {},
   "outputs": [
    {
     "name": "stdout",
     "output_type": "stream",
     "text": [
      "<class 'pandas.core.frame.DataFrame'>\n",
      "RangeIndex: 716 entries, 0 to 715\n",
      "Data columns (total 6 columns):\n",
      " #   Column           Non-Null Count  Dtype  \n",
      "---  ------           --------------  -----  \n",
      " 0   Empresa          716 non-null    object \n",
      " 1   Nombre completo  716 non-null    object \n",
      " 2   Categoria        716 non-null    object \n",
      " 3   Producto         716 non-null    object \n",
      " 4   Reemplazo        164 non-null    object \n",
      " 5   Precio           716 non-null    float64\n",
      "dtypes: float64(1), object(5)\n",
      "memory usage: 33.7+ KB\n"
     ]
    }
   ],
   "source": [
    "todo_conc.info()"
   ]
  },
  {
   "cell_type": "code",
   "execution_count": 15,
   "metadata": {},
   "outputs": [
    {
     "data": {
      "text/html": [
       "<div>\n",
       "<style scoped>\n",
       "    .dataframe tbody tr th:only-of-type {\n",
       "        vertical-align: middle;\n",
       "    }\n",
       "\n",
       "    .dataframe tbody tr th {\n",
       "        vertical-align: top;\n",
       "    }\n",
       "\n",
       "    .dataframe thead th {\n",
       "        text-align: right;\n",
       "    }\n",
       "</style>\n",
       "<table border=\"1\" class=\"dataframe\">\n",
       "  <thead>\n",
       "    <tr style=\"text-align: right;\">\n",
       "      <th></th>\n",
       "      <th>Empresa</th>\n",
       "      <th>Nombre completo</th>\n",
       "      <th>Categoria</th>\n",
       "      <th>Producto</th>\n",
       "      <th>Reemplazo</th>\n",
       "      <th>Precio</th>\n",
       "    </tr>\n",
       "  </thead>\n",
       "  <tbody>\n",
       "    <tr>\n",
       "      <th>0</th>\n",
       "      <td>Alain Afflelou</td>\n",
       "      <td>ACUVUE® OASYS MAX 1-Day - 30L</td>\n",
       "      <td>Lentes de contacto</td>\n",
       "      <td>Acuvue</td>\n",
       "      <td>Diarias</td>\n",
       "      <td>40.0</td>\n",
       "    </tr>\n",
       "    <tr>\n",
       "      <th>1</th>\n",
       "      <td>Alain Afflelou</td>\n",
       "      <td>AIR OPTIX AQUA ESFÉRICA - 3L</td>\n",
       "      <td>Lentes de contacto</td>\n",
       "      <td>Air Optix</td>\n",
       "      <td>Mensual</td>\n",
       "      <td>31.0</td>\n",
       "    </tr>\n",
       "    <tr>\n",
       "      <th>2</th>\n",
       "      <td>Alain Afflelou</td>\n",
       "      <td>AIR OPTIX NIGHT &amp; DAY - 6L</td>\n",
       "      <td>Lentes de contacto</td>\n",
       "      <td>Air Optix</td>\n",
       "      <td>Mensual</td>\n",
       "      <td>77.0</td>\n",
       "    </tr>\n",
       "    <tr>\n",
       "      <th>3</th>\n",
       "      <td>Alain Afflelou</td>\n",
       "      <td>AIR OPTIX NIGHT &amp; DAY - 6L</td>\n",
       "      <td>Lentes de contacto</td>\n",
       "      <td>Air Optix</td>\n",
       "      <td>Mensual</td>\n",
       "      <td>77.0</td>\n",
       "    </tr>\n",
       "    <tr>\n",
       "      <th>4</th>\n",
       "      <td>Alain Afflelou</td>\n",
       "      <td>AIR OPTIX ESFÉRICA AQUA - 6L</td>\n",
       "      <td>Lentes de contacto</td>\n",
       "      <td>Air Optix</td>\n",
       "      <td>Mensual</td>\n",
       "      <td>48.5</td>\n",
       "    </tr>\n",
       "    <tr>\n",
       "      <th>...</th>\n",
       "      <td>...</td>\n",
       "      <td>...</td>\n",
       "      <td>...</td>\n",
       "      <td>...</td>\n",
       "      <td>...</td>\n",
       "      <td>...</td>\n",
       "    </tr>\n",
       "    <tr>\n",
       "      <th>711</th>\n",
       "      <td>Óptica Universitaria</td>\n",
       "      <td>LENTSOFT GOTAS HUMECTANTES 6ML</td>\n",
       "      <td>Líquidos</td>\n",
       "      <td>Marca Propia</td>\n",
       "      <td>NaN</td>\n",
       "      <td>4.5</td>\n",
       "    </tr>\n",
       "    <tr>\n",
       "      <th>712</th>\n",
       "      <td>Óptica Universitaria</td>\n",
       "      <td>LENTSOFT SOLUCIÓN UNICA HIDRATANTE 360 ML</td>\n",
       "      <td>Líquidos</td>\n",
       "      <td>Marca Propia</td>\n",
       "      <td>NaN</td>\n",
       "      <td>6.5</td>\n",
       "    </tr>\n",
       "    <tr>\n",
       "      <th>713</th>\n",
       "      <td>Óptica Universitaria</td>\n",
       "      <td>LENTSOFT SOLUCIÓN ÚNICA HIDRATANTE 100 ML</td>\n",
       "      <td>Líquidos</td>\n",
       "      <td>Marca Propia</td>\n",
       "      <td>NaN</td>\n",
       "      <td>3.5</td>\n",
       "    </tr>\n",
       "    <tr>\n",
       "      <th>714</th>\n",
       "      <td>Óptica Universitaria</td>\n",
       "      <td>LENTSOFT SOLUCIÓN PERÓXIDO 250 ML</td>\n",
       "      <td>Líquidos</td>\n",
       "      <td>Marca Propia</td>\n",
       "      <td>NaN</td>\n",
       "      <td>6.5</td>\n",
       "    </tr>\n",
       "    <tr>\n",
       "      <th>715</th>\n",
       "      <td>Óptica Universitaria</td>\n",
       "      <td>LENTSOFT SOLUCION SALINA 360 ML</td>\n",
       "      <td>Líquidos</td>\n",
       "      <td>Marca Propia</td>\n",
       "      <td>NaN</td>\n",
       "      <td>3.0</td>\n",
       "    </tr>\n",
       "  </tbody>\n",
       "</table>\n",
       "<p>716 rows × 6 columns</p>\n",
       "</div>"
      ],
      "text/plain": [
       "                  Empresa                            Nombre completo  \\\n",
       "0          Alain Afflelou              ACUVUE® OASYS MAX 1-Day - 30L   \n",
       "1          Alain Afflelou               AIR OPTIX AQUA ESFÉRICA - 3L   \n",
       "2          Alain Afflelou                 AIR OPTIX NIGHT & DAY - 6L   \n",
       "3          Alain Afflelou                 AIR OPTIX NIGHT & DAY - 6L   \n",
       "4          Alain Afflelou               AIR OPTIX ESFÉRICA AQUA - 6L   \n",
       "..                    ...                                        ...   \n",
       "711  Óptica Universitaria            LENTSOFT GOTAS HUMECTANTES 6ML    \n",
       "712  Óptica Universitaria  LENTSOFT SOLUCIÓN UNICA HIDRATANTE 360 ML   \n",
       "713  Óptica Universitaria  LENTSOFT SOLUCIÓN ÚNICA HIDRATANTE 100 ML   \n",
       "714  Óptica Universitaria          LENTSOFT SOLUCIÓN PERÓXIDO 250 ML   \n",
       "715  Óptica Universitaria            LENTSOFT SOLUCION SALINA 360 ML   \n",
       "\n",
       "              Categoria      Producto Reemplazo  Precio  \n",
       "0    Lentes de contacto        Acuvue   Diarias    40.0  \n",
       "1    Lentes de contacto     Air Optix   Mensual    31.0  \n",
       "2    Lentes de contacto     Air Optix   Mensual    77.0  \n",
       "3    Lentes de contacto     Air Optix   Mensual    77.0  \n",
       "4    Lentes de contacto     Air Optix   Mensual    48.5  \n",
       "..                  ...           ...       ...     ...  \n",
       "711            Líquidos  Marca Propia       NaN     4.5  \n",
       "712            Líquidos  Marca Propia       NaN     6.5  \n",
       "713            Líquidos  Marca Propia       NaN     3.5  \n",
       "714            Líquidos  Marca Propia       NaN     6.5  \n",
       "715            Líquidos  Marca Propia       NaN     3.0  \n",
       "\n",
       "[716 rows x 6 columns]"
      ]
     },
     "execution_count": 15,
     "metadata": {},
     "output_type": "execute_result"
    }
   ],
   "source": [
    "todo_conc"
   ]
  },
  {
   "cell_type": "code",
   "execution_count": 16,
   "metadata": {},
   "outputs": [],
   "source": [
    "todo_conc.to_csv(\"./Data/Data_main/todo_conc_opticas.csv\")"
   ]
  }
 ],
 "metadata": {
  "kernelspec": {
   "display_name": "Python 3",
   "language": "python",
   "name": "python3"
  },
  "language_info": {
   "codemirror_mode": {
    "name": "ipython",
    "version": 3
   },
   "file_extension": ".py",
   "mimetype": "text/x-python",
   "name": "python",
   "nbconvert_exporter": "python",
   "pygments_lexer": "ipython3",
   "version": "3.7.4"
  },
  "orig_nbformat": 4
 },
 "nbformat": 4,
 "nbformat_minor": 2
}
