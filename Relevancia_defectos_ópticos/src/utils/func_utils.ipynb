{
 "cells": [
  {
   "cell_type": "code",
   "execution_count": null,
   "metadata": {},
   "outputs": [],
   "source": [
    "# for index, row in data_concreto.iterrows(): #Con este codigo renombramos el tipo de nombre de producto.\n",
    "#     if \"Nombre del producto\" in row[\"Nombre completo\"] or \"Nombre del producto\" in row[\"Nombre completo\"] or \"Nombre del producto\" in row[\"Nombre completo\"]:\n",
    "#         data_concreto.loc[index][\"Producto\"] = \"Nombre que queremos que sea el producto\""
   ]
  },
  {
   "cell_type": "code",
   "execution_count": null,
   "metadata": {},
   "outputs": [],
   "source": [
    "# for indice, valor in data_concreto[\"Precio\"].iteritems(): # Con este codigo limpiamos la fila de precio de cualquier tipo de carcarter, convirtiendo la cadena en float.\n",
    "#     cadena = valor\n",
    "#     for caracter in cadena:\n",
    "#         try:\n",
    "#             valor_float = float(cadena)\n",
    "#             data_concreto.at[indice, \"Precio\"] = valor_float\n",
    "#             break\n",
    "#         except ValueError:\n",
    "#             if not caracter.isdigit() and caracter != '.' and caracter != '-':\n",
    "#                 cadena = cadena.replace(caracter, '')\n",
    "#             cadena = cadena.replace(',', '.')\n",
    "# data_concreto[\"Precio\"] = data_concreto[\"Precio\"].astype(float)"
   ]
  },
  {
   "cell_type": "code",
   "execution_count": null,
   "metadata": {},
   "outputs": [],
   "source": [
    "# data_concreto[\"Empresa\"] = \"Empresa concreta\"\n",
    "# data_concreto[\"Producto\"] = \"Marca Propia\"\n",
    "# data_concreto = data_concreto.rename(columns={\"nombre_completo\":\"Nombre completo\",\n",
    "#                                                     \"categoria\":\"Categoria\",\n",
    "#                                                     \"producto\":\"Producto\",\n",
    "#                                                     \"precio\":\"Precio\"})\n",
    "# data_concreto[\"Categoria\"] = \"Ofertas montura + cristales\"\n",
    "# data_concreto = data_concreto[[\"Empresa\",\"Nombre completo\",\"Categoria\",\"Producto\",\"Precio\"]] # Orden dataframe"
   ]
  },
  {
   "cell_type": "code",
   "execution_count": null,
   "metadata": {},
   "outputs": [],
   "source": [
    "# for indice, valor in data_concreto[\"Precio\"].iteritems(): # Quitamos cositas del precio.\n",
    "#     cadena = valor\n",
    "#     cadena = cadena.replace('€', '') \n",
    "#     cadena = cadena.replace(',', '.')\n",
    "#     try:\n",
    "#         valor_float = float(cadena)\n",
    "#         data_concreto.at[indice, \"Precio\"] = valor_float\n",
    "#     except ValueError:\n",
    "#         pass\n",
    "\n",
    "# data_concreto[\"Precio\"] = data_concreto[\"Precio\"].astype(float)"
   ]
  },
  {
   "cell_type": "code",
   "execution_count": null,
   "metadata": {},
   "outputs": [],
   "source": [
    "# def get_lc_gafas(url): \n",
    "#     response = requests.get(url)\n",
    "#     soup = bs(response.content, 'html.parser')\n",
    "    \n",
    "#     all_lentillas = soup.find_all(\"li\",class_=\"item last\")\n",
    "    \n",
    "#     data_concreto_lc_o_gafas = {\"nombre_completo\":[],\n",
    "#                               \"categoria\":[],\n",
    "#                               \"producto\":[],\n",
    "#                               \"reemplazo\":[],\n",
    "#                                \"precio\":[]}\n",
    "#     for lentilla in all_lentillas:\n",
    "#         lc_ou[\"nombre_completo\"].append((lentilla.find(\"a\").get(\"data-name\")))\n",
    "#         lc_ou[\"categoria\"].append((lentilla.find(\"a\").get(\"data-category\")))\n",
    "#         lc_ou[\"producto\"].append((lentilla.find(\"a\").get(\"data-brand\")))\n",
    "#         lc_ou[\"reemplazo\"].append((lentilla.find(\"a\").get(\"data-list\")))\n",
    "#         lc_ou[\"precio\"].append((lentilla.find(\"a\").get(\"data-price\")))\n",
    "#     df_lc = pd.DataFrame(data_concreto_lc_o_gafas)\n",
    "#     df_lc.to_csv(\"Data/csv_scrap/\" + url.split(\"/\")[-1] + \".csv\")"
   ]
  }
 ],
 "metadata": {
  "language_info": {
   "name": "python"
  },
  "orig_nbformat": 4
 },
 "nbformat": 4,
 "nbformat_minor": 2
}
