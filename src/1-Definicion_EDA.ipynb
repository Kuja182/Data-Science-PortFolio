{
 "cells": [
  {
   "attachments": {},
   "cell_type": "markdown",
   "metadata": {},
   "source": [
    "![imagen](./img/ejercicios.png)"
   ]
  },
  {
   "attachments": {},
   "cell_type": "markdown",
   "metadata": {},
   "source": [
    "# INFORMACIÓN DEL PROYECTO"
   ]
  },
  {
   "attachments": {},
   "cell_type": "markdown",
   "metadata": {},
   "source": [
    "### TÍTULO"
   ]
  },
  {
   "attachments": {},
   "cell_type": "markdown",
   "metadata": {},
   "source": [
    "### Relevancia de los defectos ópticos en la actualidad y mejor solución económica a estos problemas."
   ]
  },
  {
   "attachments": {},
   "cell_type": "markdown",
   "metadata": {},
   "source": [
    "### TEMA"
   ]
  },
  {
   "attachments": {},
   "cell_type": "markdown",
   "metadata": {},
   "source": [
    "### Evaluación de todas las enfermedades oculares y la predominancia de cada una de ellas en un gran espectro.\n"
   ]
  },
  {
   "attachments": {},
   "cell_type": "markdown",
   "metadata": {},
   "source": [
    "### HIPÓTESIS"
   ]
  },
  {
   "attachments": {},
   "cell_type": "markdown",
   "metadata": {},
   "source": [
    " #### 1. Predominancia de la miopía como afección visual mayoritaria.\n",
    " #### 2. El componente genetico en la miopía es de gran relevancia, además de otros valores como la longitud axial del ojo (distancia desde la superficie de la cornea hasta la retina)"
   ]
  },
  {
   "attachments": {},
   "cell_type": "markdown",
   "metadata": {},
   "source": [
    "## OBTENCIÓN DE LOS DATOS"
   ]
  },
  {
   "attachments": {},
   "cell_type": "markdown",
   "metadata": {},
   "source": [
    "### DATASETS Y FUENTES ALTERNATIVAS DE DATOS"
   ]
  },
  {
   "cell_type": "code",
   "execution_count": 1,
   "metadata": {},
   "outputs": [],
   "source": [
    "import pandas as pd\n",
    "fuente_1 = \"https://data.world/datacrunch/prevalence-of-vision-problems-in-the-u-s/\" , \"Vault Analytics\"\n",
    "eye_dis = pd.read_csv(\"Prevelance of Eye Diseases in US.csv\")\n",
    "fuente_2 = \"https://www.kaggle.com/datasets/mscgeorges/myopia-study\", \"Zadnik K, Mutti DO, Friedman NE, Qualley PA, Jones LA, Qui P, Kim HS, Hsu JC, Moeschberger ML. Ocular predictors of the onset of juvenile myopia. Invest Ophthalmol Vis Sci. 1999 Aug;40(9):1936-43. PMID: 10440246.\"\n",
    "myopia_data = pd.read_csv(\"myopia.csv\",sep=\";\")\n"
   ]
  },
  {
   "attachments": {},
   "cell_type": "markdown",
   "metadata": {},
   "source": [
    "#### En este primer dataframe obtendremos la dominancia de los diferentes problemas visuales en EEUU y de cada estado."
   ]
  },
  {
   "cell_type": "code",
   "execution_count": 2,
   "metadata": {},
   "outputs": [
    {
     "data": {
      "text/html": [
       "<div>\n",
       "<style scoped>\n",
       "    .dataframe tbody tr th:only-of-type {\n",
       "        vertical-align: middle;\n",
       "    }\n",
       "\n",
       "    .dataframe tbody tr th {\n",
       "        vertical-align: top;\n",
       "    }\n",
       "\n",
       "    .dataframe thead th {\n",
       "        text-align: right;\n",
       "    }\n",
       "</style>\n",
       "<table border=\"1\" class=\"dataframe\">\n",
       "  <thead>\n",
       "    <tr style=\"text-align: right;\">\n",
       "      <th></th>\n",
       "      <th>state</th>\n",
       "      <th>vision_problem</th>\n",
       "      <th>race</th>\n",
       "      <th>sex</th>\n",
       "      <th>age</th>\n",
       "      <th>number_of_cases</th>\n",
       "      <th>prevalence_rate</th>\n",
       "      <th>population</th>\n",
       "    </tr>\n",
       "  </thead>\n",
       "  <tbody>\n",
       "    <tr>\n",
       "      <th>0</th>\n",
       "      <td>UNITED_STATES</td>\n",
       "      <td>AMD</td>\n",
       "      <td>ALL</td>\n",
       "      <td>ALL</td>\n",
       "      <td>ALL</td>\n",
       "      <td>2069403</td>\n",
       "      <td>0,0209</td>\n",
       "      <td>142648393</td>\n",
       "    </tr>\n",
       "    <tr>\n",
       "      <th>1</th>\n",
       "      <td>UNITED_STATES</td>\n",
       "      <td>AMD</td>\n",
       "      <td>ALL</td>\n",
       "      <td>ALL</td>\n",
       "      <td>50-54</td>\n",
       "      <td>79268</td>\n",
       "      <td>0,0036</td>\n",
       "      <td>22298125</td>\n",
       "    </tr>\n",
       "    <tr>\n",
       "      <th>2</th>\n",
       "      <td>UNITED_STATES</td>\n",
       "      <td>AMD</td>\n",
       "      <td>ALL</td>\n",
       "      <td>ALL</td>\n",
       "      <td>55-59</td>\n",
       "      <td>81083</td>\n",
       "      <td>0,0041</td>\n",
       "      <td>19664805</td>\n",
       "    </tr>\n",
       "    <tr>\n",
       "      <th>3</th>\n",
       "      <td>UNITED_STATES</td>\n",
       "      <td>AMD</td>\n",
       "      <td>ALL</td>\n",
       "      <td>ALL</td>\n",
       "      <td>60-64</td>\n",
       "      <td>95553</td>\n",
       "      <td>0,0057</td>\n",
       "      <td>16817924</td>\n",
       "    </tr>\n",
       "    <tr>\n",
       "      <th>4</th>\n",
       "      <td>UNITED_STATES</td>\n",
       "      <td>AMD</td>\n",
       "      <td>ALL</td>\n",
       "      <td>ALL</td>\n",
       "      <td>65-69</td>\n",
       "      <td>113107</td>\n",
       "      <td>0,0091</td>\n",
       "      <td>12435263</td>\n",
       "    </tr>\n",
       "  </tbody>\n",
       "</table>\n",
       "</div>"
      ],
      "text/plain": [
       "           state vision_problem race  sex    age  number_of_cases  \\\n",
       "0  UNITED_STATES            AMD  ALL  ALL    ALL          2069403   \n",
       "1  UNITED_STATES            AMD  ALL  ALL  50-54            79268   \n",
       "2  UNITED_STATES            AMD  ALL  ALL  55-59            81083   \n",
       "3  UNITED_STATES            AMD  ALL  ALL  60-64            95553   \n",
       "4  UNITED_STATES            AMD  ALL  ALL  65-69           113107   \n",
       "\n",
       "  prevalence_rate  population  \n",
       "0          0,0209   142648393  \n",
       "1          0,0036    22298125  \n",
       "2          0,0041    19664805  \n",
       "3          0,0057    16817924  \n",
       "4          0,0091    12435263  "
      ]
     },
     "execution_count": 2,
     "metadata": {},
     "output_type": "execute_result"
    }
   ],
   "source": [
    "eye_dis.head()"
   ]
  },
  {
   "cell_type": "code",
   "execution_count": 3,
   "metadata": {},
   "outputs": [
    {
     "name": "stdout",
     "output_type": "stream",
     "text": [
      "<class 'pandas.core.frame.DataFrame'>\n",
      "RangeIndex: 52260 entries, 0 to 52259\n",
      "Data columns (total 8 columns):\n",
      " #   Column           Non-Null Count  Dtype \n",
      "---  ------           --------------  ----- \n",
      " 0   state            52260 non-null  object\n",
      " 1   vision_problem   52260 non-null  object\n",
      " 2   race             52260 non-null  object\n",
      " 3   sex              52260 non-null  object\n",
      " 4   age              52260 non-null  object\n",
      " 5   number_of_cases  52260 non-null  int64 \n",
      " 6   prevalence_rate  52260 non-null  object\n",
      " 7   population       52260 non-null  int64 \n",
      "dtypes: int64(2), object(6)\n",
      "memory usage: 3.2+ MB\n",
      "None\n"
     ]
    },
    {
     "data": {
      "text/plain": [
       "('https://data.world/datacrunch/prevalence-of-vision-problems-in-the-u-s/',\n",
       " 'Vault Analytics')"
      ]
     },
     "execution_count": 3,
     "metadata": {},
     "output_type": "execute_result"
    }
   ],
   "source": [
    "print(eye_dis.info())\n",
    "fuente_1\n"
   ]
  },
  {
   "attachments": {},
   "cell_type": "markdown",
   "metadata": {},
   "source": [
    "### En el segundo dataframe tendremos un espectro más definido sobre la miopía y los factores que la pueden condicionar en una muestra de 600 niños aproximadamente con su evolución durante un periodo de 5 años."
   ]
  },
  {
   "cell_type": "code",
   "execution_count": 4,
   "metadata": {},
   "outputs": [
    {
     "data": {
      "text/html": [
       "<div>\n",
       "<style scoped>\n",
       "    .dataframe tbody tr th:only-of-type {\n",
       "        vertical-align: middle;\n",
       "    }\n",
       "\n",
       "    .dataframe tbody tr th {\n",
       "        vertical-align: top;\n",
       "    }\n",
       "\n",
       "    .dataframe thead th {\n",
       "        text-align: right;\n",
       "    }\n",
       "</style>\n",
       "<table border=\"1\" class=\"dataframe\">\n",
       "  <thead>\n",
       "    <tr style=\"text-align: right;\">\n",
       "      <th></th>\n",
       "      <th>ID</th>\n",
       "      <th>STUDYYEAR</th>\n",
       "      <th>MYOPIC</th>\n",
       "      <th>AGE</th>\n",
       "      <th>GENDER</th>\n",
       "      <th>SPHEQ</th>\n",
       "      <th>AL</th>\n",
       "      <th>ACD</th>\n",
       "      <th>LT</th>\n",
       "      <th>VCD</th>\n",
       "      <th>SPORTHR</th>\n",
       "      <th>READHR</th>\n",
       "      <th>COMPHR</th>\n",
       "      <th>STUDYHR</th>\n",
       "      <th>TVHR</th>\n",
       "      <th>DIOPTERHR</th>\n",
       "      <th>MOMMY</th>\n",
       "      <th>DADMY</th>\n",
       "    </tr>\n",
       "  </thead>\n",
       "  <tbody>\n",
       "    <tr>\n",
       "      <th>0</th>\n",
       "      <td>1</td>\n",
       "      <td>1992</td>\n",
       "      <td>1</td>\n",
       "      <td>6</td>\n",
       "      <td>1</td>\n",
       "      <td>-0.052</td>\n",
       "      <td>21.89</td>\n",
       "      <td>3.690</td>\n",
       "      <td>3.498</td>\n",
       "      <td>14.70</td>\n",
       "      <td>45</td>\n",
       "      <td>8</td>\n",
       "      <td>0</td>\n",
       "      <td>0</td>\n",
       "      <td>10</td>\n",
       "      <td>34</td>\n",
       "      <td>1</td>\n",
       "      <td>1</td>\n",
       "    </tr>\n",
       "    <tr>\n",
       "      <th>1</th>\n",
       "      <td>2</td>\n",
       "      <td>1995</td>\n",
       "      <td>0</td>\n",
       "      <td>6</td>\n",
       "      <td>1</td>\n",
       "      <td>0.608</td>\n",
       "      <td>22.38</td>\n",
       "      <td>3.702</td>\n",
       "      <td>3.392</td>\n",
       "      <td>15.29</td>\n",
       "      <td>4</td>\n",
       "      <td>0</td>\n",
       "      <td>1</td>\n",
       "      <td>1</td>\n",
       "      <td>7</td>\n",
       "      <td>12</td>\n",
       "      <td>1</td>\n",
       "      <td>1</td>\n",
       "    </tr>\n",
       "    <tr>\n",
       "      <th>2</th>\n",
       "      <td>3</td>\n",
       "      <td>1991</td>\n",
       "      <td>0</td>\n",
       "      <td>6</td>\n",
       "      <td>1</td>\n",
       "      <td>1.179</td>\n",
       "      <td>22.49</td>\n",
       "      <td>3.462</td>\n",
       "      <td>3.514</td>\n",
       "      <td>15.52</td>\n",
       "      <td>14</td>\n",
       "      <td>0</td>\n",
       "      <td>2</td>\n",
       "      <td>0</td>\n",
       "      <td>10</td>\n",
       "      <td>14</td>\n",
       "      <td>0</td>\n",
       "      <td>0</td>\n",
       "    </tr>\n",
       "    <tr>\n",
       "      <th>3</th>\n",
       "      <td>4</td>\n",
       "      <td>1990</td>\n",
       "      <td>1</td>\n",
       "      <td>6</td>\n",
       "      <td>1</td>\n",
       "      <td>0.525</td>\n",
       "      <td>22.20</td>\n",
       "      <td>3.862</td>\n",
       "      <td>3.612</td>\n",
       "      <td>14.73</td>\n",
       "      <td>18</td>\n",
       "      <td>11</td>\n",
       "      <td>0</td>\n",
       "      <td>0</td>\n",
       "      <td>4</td>\n",
       "      <td>37</td>\n",
       "      <td>0</td>\n",
       "      <td>1</td>\n",
       "    </tr>\n",
       "    <tr>\n",
       "      <th>4</th>\n",
       "      <td>5</td>\n",
       "      <td>1995</td>\n",
       "      <td>0</td>\n",
       "      <td>5</td>\n",
       "      <td>0</td>\n",
       "      <td>0.697</td>\n",
       "      <td>23.29</td>\n",
       "      <td>3.676</td>\n",
       "      <td>3.454</td>\n",
       "      <td>16.16</td>\n",
       "      <td>14</td>\n",
       "      <td>0</td>\n",
       "      <td>0</td>\n",
       "      <td>0</td>\n",
       "      <td>4</td>\n",
       "      <td>4</td>\n",
       "      <td>1</td>\n",
       "      <td>0</td>\n",
       "    </tr>\n",
       "  </tbody>\n",
       "</table>\n",
       "</div>"
      ],
      "text/plain": [
       "   ID  STUDYYEAR  MYOPIC  AGE  GENDER  SPHEQ     AL    ACD     LT    VCD  \\\n",
       "0   1       1992       1    6       1 -0.052  21.89  3.690  3.498  14.70   \n",
       "1   2       1995       0    6       1  0.608  22.38  3.702  3.392  15.29   \n",
       "2   3       1991       0    6       1  1.179  22.49  3.462  3.514  15.52   \n",
       "3   4       1990       1    6       1  0.525  22.20  3.862  3.612  14.73   \n",
       "4   5       1995       0    5       0  0.697  23.29  3.676  3.454  16.16   \n",
       "\n",
       "   SPORTHR  READHR  COMPHR  STUDYHR  TVHR  DIOPTERHR  MOMMY  DADMY  \n",
       "0       45       8       0        0    10         34      1      1  \n",
       "1        4       0       1        1     7         12      1      1  \n",
       "2       14       0       2        0    10         14      0      0  \n",
       "3       18      11       0        0     4         37      0      1  \n",
       "4       14       0       0        0     4          4      1      0  "
      ]
     },
     "execution_count": 4,
     "metadata": {},
     "output_type": "execute_result"
    }
   ],
   "source": [
    "myopia_data.head()"
   ]
  },
  {
   "cell_type": "code",
   "execution_count": 5,
   "metadata": {},
   "outputs": [
    {
     "name": "stdout",
     "output_type": "stream",
     "text": [
      "<class 'pandas.core.frame.DataFrame'>\n",
      "RangeIndex: 618 entries, 0 to 617\n",
      "Data columns (total 18 columns):\n",
      " #   Column     Non-Null Count  Dtype  \n",
      "---  ------     --------------  -----  \n",
      " 0   ID         618 non-null    int64  \n",
      " 1   STUDYYEAR  618 non-null    int64  \n",
      " 2   MYOPIC     618 non-null    int64  \n",
      " 3   AGE        618 non-null    int64  \n",
      " 4   GENDER     618 non-null    int64  \n",
      " 5   SPHEQ      618 non-null    float64\n",
      " 6   AL         618 non-null    float64\n",
      " 7   ACD        618 non-null    float64\n",
      " 8   LT         618 non-null    float64\n",
      " 9   VCD        618 non-null    float64\n",
      " 10  SPORTHR    618 non-null    int64  \n",
      " 11  READHR     618 non-null    int64  \n",
      " 12  COMPHR     618 non-null    int64  \n",
      " 13  STUDYHR    618 non-null    int64  \n",
      " 14  TVHR       618 non-null    int64  \n",
      " 15  DIOPTERHR  618 non-null    int64  \n",
      " 16  MOMMY      618 non-null    int64  \n",
      " 17  DADMY      618 non-null    int64  \n",
      "dtypes: float64(5), int64(13)\n",
      "memory usage: 87.0 KB\n",
      "None\n",
      "('https://www.kaggle.com/datasets/mscgeorges/myopia-study', 'Zadnik K, Mutti DO, Friedman NE, Qualley PA, Jones LA, Qui P, Kim HS, Hsu JC, Moeschberger ML. Ocular predictors of the onset of juvenile myopia. Invest Ophthalmol Vis Sci. 1999 Aug;40(9):1936-43. PMID: 10440246.')\n"
     ]
    }
   ],
   "source": [
    "print(myopia_data.info())\n",
    "print(fuente_2)"
   ]
  }
 ],
 "metadata": {
  "kernelspec": {
   "display_name": "Python 3.7.4 64-bit",
   "language": "python",
   "name": "python3"
  },
  "language_info": {
   "codemirror_mode": {
    "name": "ipython",
    "version": 3
   },
   "file_extension": ".py",
   "mimetype": "text/x-python",
   "name": "python",
   "nbconvert_exporter": "python",
   "pygments_lexer": "ipython3",
   "version": "3.7.4"
  },
  "orig_nbformat": 4,
  "vscode": {
   "interpreter": {
    "hash": "90139cb9a825bf3d63f6f6704e828dbd1ff7edbd4d0c6e906a71235d6efc74af"
   }
  }
 },
 "nbformat": 4,
 "nbformat_minor": 2
}
