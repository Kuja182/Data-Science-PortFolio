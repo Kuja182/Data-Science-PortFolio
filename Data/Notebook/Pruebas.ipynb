{
 "cells": [
  {
   "cell_type": "code",
   "execution_count": null,
   "metadata": {},
   "outputs": [],
   "source": [
    "fig, ax = plt.subplots(figsize=(5, 5))\n",
    "EEUU_probl_prv.plot(kind=\"bar\", ax=ax, width =3)\n",
    "ax.legend(bbox_to_anchor=(1, 0.7), loc='upper left');\n",
    "ax.set_xlabel(\"\")\n",
    "ax.set_xticklabels([])\n",
    "plt.title(\"Prevalencia de las enfermedades oculares en EEUU\");\n"
   ]
  },
  {
   "attachments": {},
   "cell_type": "markdown",
   "metadata": {},
   "source": [
    "miopia_gen= states_only_all[states_only_all[\"vision_problem\"] == \"MYOPIA\"]\n",
    "hipermetropia_gen = states_only_all[states_only_all[\"vision_problem\"] == \"HYPEROPIA\"]\n",
    "amd_gen = states_only_all[states_only_all[\"vision_problem\"] == \"AMD\"]\n",
    "blindness_gen = states_only_all[states_only_all[\"vision_problem\"] == \"BLINDNESS\"]\n",
    "cataratas_gen = states_only_all[states_only_all[\"vision_problem\"] == \"CATARACT\"]\n",
    "retinodiabetica_gen = states_only_all[states_only_all[\"vision_problem\"] == \"DIABETIC_RETINOPATHY\"]\n",
    "glaucoma_gen = states_only_all[states_only_all[\"vision_problem\"] == \"GLAUCOMA\"]\n",
    "blindness_gen = states_only_all[states_only_all[\"vision_problem\"] == \"VISION_IMPAIRMENT\"]"
   ]
  }
 ],
 "metadata": {
  "language_info": {
   "name": "python"
  },
  "orig_nbformat": 4
 },
 "nbformat": 4,
 "nbformat_minor": 2
}
